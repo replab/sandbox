{
 "cells": [
  {
   "cell_type": "markdown",
   "id": "963add1f",
   "metadata": {},
   "source": [
    "# Symmetries in Bell nonlocality, part 2\n",
    "\n",
    "We describe the relabelings in the CHSH scenario, and decompose their action on probability distributions $P(ab|xy)$, now using an abstract group construction.\n",
    "\n",
    "We identify those relabelings with a [wreath product](https://en.wikipedia.org/wiki/Wreath_product) construction, which RepLAB supports.\n",
    "This topic guide can also be considered as a (small) introduction to the group constructions available in RepLAB."
   ]
  },
  {
   "cell_type": "markdown",
   "id": "9ce2de1a",
   "metadata": {},
   "source": [
    "Before using *RepLAB* commands, we must first initialize the library:"
   ]
  },
  {
   "cell_type": "code",
   "execution_count": 1,
   "id": "3934c984",
   "metadata": {
    "execution": {
     "iopub.execute_input": "2021-12-28T14:19:58.124302Z",
     "iopub.status.busy": "2021-12-28T14:19:58.123945Z",
     "iopub.status.idle": "2021-12-28T14:19:58.147590Z",
     "shell.execute_reply": "2021-12-28T14:19:58.147153Z"
    }
   },
   "outputs": [
    {
     "name": "stdout",
     "output_type": "stream",
     "text": [
      "warning: addpath: /github/workspace/generated/sphinx/nonlocality/../../external/replab: No such file or directory\r\n"
     ]
    },
    {
     "name": "stdout",
     "output_type": "stream",
     "text": [
      "error: 'replab_init' undefined near line 1, column 1\r\n"
     ]
    }
   ],
   "source": [
    "addpath([pwd, '/../../external/replab']);\n",
    "replab_init('verbose', 0);"
   ]
  },
  {
   "cell_type": "markdown",
   "id": "5f9349ad",
   "metadata": {},
   "source": [
    "## Only outputs\n",
    "\n",
    "Outputs are binary, so the relabelling of outputs is the symmetric group\n",
    "of domain size 2."
   ]
  },
  {
   "cell_type": "code",
   "execution_count": 2,
   "id": "ee77d523",
   "metadata": {
    "execution": {
     "iopub.execute_input": "2021-12-28T14:19:58.149997Z",
     "iopub.status.busy": "2021-12-28T14:19:58.149630Z",
     "iopub.status.idle": "2021-12-28T14:19:58.158213Z",
     "shell.execute_reply": "2021-12-28T14:19:58.157847Z"
    }
   },
   "outputs": [
    {
     "name": "stdout",
     "output_type": "stream",
     "text": [
      "error: 'replab' undefined near line 1, column 1\r\n"
     ]
    }
   ],
   "source": [
    "outputGroup = replab.S(2)"
   ]
  },
  {
   "cell_type": "markdown",
   "id": "ff3142b3",
   "metadata": {},
   "source": [
    "Now, an element of `outputGroup` is just a permutation of the two outputs:"
   ]
  },
  {
   "cell_type": "code",
   "execution_count": 3,
   "id": "f7c7c264",
   "metadata": {
    "execution": {
     "iopub.execute_input": "2021-12-28T14:19:58.160688Z",
     "iopub.status.busy": "2021-12-28T14:19:58.160313Z",
     "iopub.status.idle": "2021-12-28T14:19:58.168493Z",
     "shell.execute_reply": "2021-12-28T14:19:58.168123Z"
    }
   },
   "outputs": [
    {
     "name": "stdout",
     "output_type": "stream",
     "text": [
      "error: 'outputGroup' undefined near line 1, column 1\r\n"
     ]
    }
   ],
   "source": [
    "outputGroup.elements"
   ]
  },
  {
   "cell_type": "markdown",
   "id": "2c9e3b3f",
   "metadata": {},
   "source": [
    "The representation of this relabelling on the probabilities $P(a)$ is then the defining representation"
   ]
  },
  {
   "cell_type": "code",
   "execution_count": 4,
   "id": "03847dc1",
   "metadata": {
    "execution": {
     "iopub.execute_input": "2021-12-28T14:19:58.170759Z",
     "iopub.status.busy": "2021-12-28T14:19:58.170386Z",
     "iopub.status.idle": "2021-12-28T14:19:58.182930Z",
     "shell.execute_reply": "2021-12-28T14:19:58.182587Z"
    }
   },
   "outputs": [
    {
     "name": "stdout",
     "output_type": "stream",
     "text": [
      "error: 'outputGroup' undefined near line 1, column 1\r\n"
     ]
    },
    {
     "name": "stdout",
     "output_type": "stream",
     "text": [
      "error: 'outputRep' undefined near line 1, column 1\r\n"
     ]
    }
   ],
   "source": [
    "outputRep = outputGroup.naturalRep\n",
    "outputRep.image([2 1])"
   ]
  },
  {
   "cell_type": "markdown",
   "id": "51e4ae3a",
   "metadata": {},
   "source": [
    "## Inputs and outputs\n",
    "\n",
    "In the CHSH scenario, each party has two binary measurements. Therefore,\n",
    "a copy of $S_2$ acts on the outputs of the first measurement, and a second\n",
    "copy of $S_2$ acting on the outputs of the second measurement, while\n",
    "another copy of $S_2$ permutes the choice of measurement (input).\n",
    "\n",
    "This is described by the wreath product of $S_2$ by $S_2$."
   ]
  },
  {
   "cell_type": "code",
   "execution_count": 5,
   "id": "974d324c",
   "metadata": {
    "execution": {
     "iopub.execute_input": "2021-12-28T14:19:58.185376Z",
     "iopub.status.busy": "2021-12-28T14:19:58.184991Z",
     "iopub.status.idle": "2021-12-28T14:19:58.197675Z",
     "shell.execute_reply": "2021-12-28T14:19:58.197294Z"
    }
   },
   "outputs": [
    {
     "name": "stdout",
     "output_type": "stream",
     "text": [
      "error: 'replab' undefined near line 1, column 1\r\n"
     ]
    },
    {
     "name": "stdout",
     "output_type": "stream",
     "text": [
      "error: 'inputGroup' undefined near line 1, column 1\r\n"
     ]
    }
   ],
   "source": [
    "inputGroup = replab.S(2)\n",
    "ioGroup = inputGroup.wreathProduct(outputGroup)"
   ]
  },
  {
   "cell_type": "markdown",
   "id": "e37988ce",
   "metadata": {},
   "source": [
    "Elements of `ioGroup` are now composed of a permutation of inputs, and the conditional output permutation for $x=1,2$:"
   ]
  },
  {
   "cell_type": "code",
   "execution_count": 6,
   "id": "955cd864",
   "metadata": {
    "execution": {
     "iopub.execute_input": "2021-12-28T14:19:58.200078Z",
     "iopub.status.busy": "2021-12-28T14:19:58.199703Z",
     "iopub.status.idle": "2021-12-28T14:19:58.208336Z",
     "shell.execute_reply": "2021-12-28T14:19:58.207980Z"
    }
   },
   "outputs": [
    {
     "name": "stdout",
     "output_type": "stream",
     "text": [
      "error: 'ioGroup' undefined near line 1, column 1\r\n"
     ]
    }
   ],
   "source": [
    "ioGroup.elements"
   ]
  },
  {
   "cell_type": "markdown",
   "id": "0e590b6e",
   "metadata": {},
   "source": [
    "The representation on the conditional probility $P(a|x)$ is the imprimitive representation,\n",
    "given that we use the defining representation\n",
    "for the inner group"
   ]
  },
  {
   "cell_type": "code",
   "execution_count": 7,
   "id": "7f5b830a",
   "metadata": {
    "execution": {
     "iopub.execute_input": "2021-12-28T14:19:58.210693Z",
     "iopub.status.busy": "2021-12-28T14:19:58.210306Z",
     "iopub.status.idle": "2021-12-28T14:19:58.218811Z",
     "shell.execute_reply": "2021-12-28T14:19:58.218493Z"
    }
   },
   "outputs": [
    {
     "name": "stdout",
     "output_type": "stream",
     "text": [
      "error: 'ioGroup' undefined near line 1, column 1\r\n"
     ]
    }
   ],
   "source": [
    "ioRep = ioGroup.imprimitiveRep(outputRep);"
   ]
  },
  {
   "cell_type": "code",
   "execution_count": 8,
   "id": "b9e888fc",
   "metadata": {
    "execution": {
     "iopub.execute_input": "2021-12-28T14:19:58.221269Z",
     "iopub.status.busy": "2021-12-28T14:19:58.220886Z",
     "iopub.status.idle": "2021-12-28T14:19:58.229160Z",
     "shell.execute_reply": "2021-12-28T14:19:58.228782Z"
    }
   },
   "outputs": [
    {
     "name": "stdout",
     "output_type": "stream",
     "text": [
      "error: 'ioRep' undefined near line 1, column 1\r\n"
     ]
    }
   ],
   "source": [
    "ioRep.image({[2 1] {[1 2] [1 2]}}) % permuting only the inputs"
   ]
  },
  {
   "cell_type": "code",
   "execution_count": 9,
   "id": "b5d648e3",
   "metadata": {
    "execution": {
     "iopub.execute_input": "2021-12-28T14:19:58.231368Z",
     "iopub.status.busy": "2021-12-28T14:19:58.230992Z",
     "iopub.status.idle": "2021-12-28T14:19:58.239366Z",
     "shell.execute_reply": "2021-12-28T14:19:58.239002Z"
    }
   },
   "outputs": [
    {
     "name": "stdout",
     "output_type": "stream",
     "text": [
      "error: 'ioRep' undefined near line 1, column 1\r\n"
     ]
    }
   ],
   "source": [
    "ioRep.image({[1 2] {[2 1] [1 2]}}) % permuting only the outputs, conditioned on $x=1$"
   ]
  }
 ],
 "metadata": {
  "jupytext": {
   "cell_metadata_filter": "-all",
   "main_language": "matlab",
   "notebook_metadata_filter": "-all",
   "text_representation": {
    "extension": ".m",
    "format_name": "light"
   }
  },
  "language_info": {
   "file_extension": ".m",
   "help_links": [
    {
     "text": "GNU Octave",
     "url": "https://www.gnu.org/software/octave/support.html"
    },
    {
     "text": "Octave Kernel",
     "url": "https://github.com/Calysto/octave_kernel"
    },
    {
     "text": "MetaKernel Magics",
     "url": "https://metakernel.readthedocs.io/en/latest/source/README.html"
    }
   ],
   "mimetype": "text/x-octave",
   "name": "octave",
   "version": "6.2.0"
  }
 },
 "nbformat": 4,
 "nbformat_minor": 5
}
